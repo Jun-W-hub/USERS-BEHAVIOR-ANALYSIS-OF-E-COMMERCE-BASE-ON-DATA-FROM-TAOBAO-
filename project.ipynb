{
 "cells": [
  {
   "cell_type": "code",
   "execution_count": 1,
   "metadata": {},
   "outputs": [
    {
     "name": "stdout",
     "output_type": "stream",
     "text": [
      "2.4.5\n",
      "2.4.5\n"
     ]
    }
   ],
   "source": [
    "import time\n",
    "import os\n",
    "import findspark\n",
    "findspark.init()\n",
    "from pyspark.sql.types import *\n",
    "import pyspark\n",
    "from pyspark.context import SparkContext\n",
    "from pyspark.sql import SparkSession \n",
    "import pyspark.sql.functions as func\n",
    "from pyspark.sql.functions import col\n",
    "sc = SparkContext.getOrCreate()\n",
    "spark = SparkSession.builder.getOrCreate()\n",
    "print(sc.version)\n",
    "print(spark.version)"
   ]
  },
  {
   "cell_type": "code",
   "execution_count": 2,
   "metadata": {},
   "outputs": [
    {
     "data": {
      "text/html": [
       "<style>.container { width:90% !important; }</style>"
      ],
      "text/plain": [
       "<IPython.core.display.HTML object>"
      ]
     },
     "metadata": {},
     "output_type": "display_data"
    }
   ],
   "source": [
    "from IPython.core.display import display, HTML\n",
    "display(HTML(\"<style>.container { width:90% !important; }</style>\"))"
   ]
  },
  {
   "cell_type": "code",
   "execution_count": 3,
   "metadata": {
    "scrolled": true
   },
   "outputs": [
    {
     "name": "stdout",
     "output_type": "stream",
     "text": [
      "+-------+-------+-----------+-----------+----------+\n",
      "|user_id|item_id|category_id|behavior_id| timestamp|\n",
      "+-------+-------+-----------+-----------+----------+\n",
      "|      1| 266784|    2520771|         pv|1511909676|\n",
      "|      1|4615417|    4145813|         pv|1511870864|\n",
      "|      1|2087357|    2131531|         pv|1511975142|\n",
      "|      1|3682069|    4690421|         pv|1512059832|\n",
      "|      1|5002615|    2520377|         pv|1511839385|\n",
      "|      1|4198227|    1320293|         pv|1512149929|\n",
      "|      1|4954999|     411153|         pv|1512061318|\n",
      "|      1|1531036|    2920476|         pv|1511733732|\n",
      "|      1|2104483|    4756105|         pv|1512194830|\n",
      "|      1| 929177|    4801426|         pv|1512252443|\n",
      "+-------+-------+-----------+-----------+----------+\n",
      "only showing top 10 rows\n",
      "\n"
     ]
    }
   ],
   "source": [
    "# Import data from CVS and Remove null\n",
    "dirpathname = \"C:/BigData/~data/590project/\"\n",
    "filename = \"UserBehavior.csv\"\n",
    "# filename='ub.csv'\n",
    "df=spark.read.option(\"sep\", \",\").option(\"header\", \"false\").csv(dirpathname + filename)\n",
    "# name of each line\n",
    "df=df.select(col(\"_c0\").alias('user_id'),col(\"_c1\").alias('item_id'),col(\"_c2\").alias('category_id'),col(\"_c3\").alias('behavior_id'),col(\"_c4\").alias('timestamp'))\n",
    "# print(df.count())\n",
    "#delete the null row\n",
    "df=df.dropna(thresh=5)\n",
    "#delete the duplication\n",
    "df=df.distinct().orderBy(['user_id'],ascending=True)\n",
    "df.show(10)"
   ]
  },
  {
   "cell_type": "code",
   "execution_count": 4,
   "metadata": {},
   "outputs": [
    {
     "name": "stdout",
     "output_type": "stream",
     "text": [
      "+-------+-------+-----------+-----------+---------+--------+\n",
      "|user_id|item_id|category_id|behavior_id|     time|    Date|\n",
      "+-------+-------+-----------+-----------+---------+--------+\n",
      "|      1| 266784|    2520771|         pv|22:54:036|20171128|\n",
      "|      1|4615417|    4145813|         pv|12:07:044|20171128|\n",
      "|      1|2087357|    2131531|         pv|17:05:042|20171129|\n",
      "|      1|2104483|    4756105|         pv|06:07:010|20171202|\n",
      "|      1|3682069|    4690421|         pv|16:37:012|20171130|\n",
      "|      1|4954999|     411153|         pv|17:01:058|20171130|\n",
      "|      1|5002615|    2520377|         pv|03:23:005|20171128|\n",
      "|      1|4198227|    1320293|         pv|17:38:049|20171201|\n",
      "|      1| 929177|    4801426|         pv|22:07:023|20171202|\n",
      "|      1|1531036|    2920476|         pv|22:02:012|20171126|\n",
      "+-------+-------+-----------+-----------+---------+--------+\n",
      "only showing top 10 rows\n",
      "\n"
     ]
    }
   ],
   "source": [
    "# transfer timestamp to Date and time\n",
    "from pyspark.sql.functions import split,explode\n",
    "df.timestamp.cast('float')\n",
    "# select the date form 2017-11-25~2017-12-03\n",
    "df=df.filter(df.timestamp>=1511586000)\\\n",
    "     .filter(df.timestamp<=1512363599)\n",
    "df=df.withColumn('time',func.from_unixtime(df.timestamp,'yyyyMMdd HH:mm:sss'))\n",
    "df=df.withColumn('s',split(df['time'],' '))\n",
    "df=df.withColumn('time',df['s'].getItem(1))\n",
    "df=df.withColumn('Date',df['s'].getItem(0))\n",
    "df=df.drop('timestamp','s')\n",
    "df.show(10)\n"
   ]
  },
  {
   "cell_type": "code",
   "execution_count": 7,
   "metadata": {},
   "outputs": [
    {
     "name": "stdout",
     "output_type": "stream",
     "text": [
      "Total number of behaviors :3704006\n",
      "There are total 37375 customers.\n",
      "Total record:9 days.\n",
      "+--------+------+\n",
      "|    Date| count|\n",
      "+--------+------+\n",
      "|20171202|540471|\n",
      "|20171203|463170|\n",
      "|20171201|430425|\n",
      "|20171130|402767|\n",
      "|20171126|401888|\n",
      "|20171129|393249|\n",
      "|20171127|381776|\n",
      "|20171128|376521|\n",
      "|20171125|313739|\n",
      "+--------+------+\n",
      "\n"
     ]
    }
   ],
   "source": [
    "# Basic data statistics\n",
    "print('Total number of behaviors :{0}'.format(df.count()))\n",
    "\n",
    "# the number of customers\n",
    "df_user=df.select('user_id').distinct()\n",
    "print('There are total {0} customers.'.format(df_user.count()))\n",
    "\n",
    "# the number of days\n",
    "df_day=df.select('Date').distinct()\n",
    "print('Total record:{0} days.'.format(df_day.count()))\n",
    "\n",
    "# Daily behavior statistics\n",
    "data_daily=df.groupBy(\"Date\").count().orderBy([\"count\"], ascending=False)\n",
    "data_daily.show()"
   ]
  },
  {
   "cell_type": "code",
   "execution_count": 8,
   "metadata": {},
   "outputs": [
    {
     "name": "stdout",
     "output_type": "stream",
     "text": [
      "There are total 7081 category.\n",
      "Buying category:262.\n",
      "There are total 912758 items.\n",
      "Buying items:12749.\n",
      "+-------+-----+\n",
      "|user_id|count|\n",
      "+-------+-----+\n",
      "| 115477|  755|\n",
      "| 221012|  729|\n",
      "| 164127|  714|\n",
      "| 116139|  703|\n",
      "| 114912|  689|\n",
      "| 115906|  667|\n",
      "|1010419|  665|\n",
      "| 142071|  663|\n",
      "| 213141|  655|\n",
      "| 144929|  629|\n",
      "| 167945|  615|\n",
      "| 182888|  614|\n",
      "| 190128|  611|\n",
      "| 227503|  597|\n",
      "|  19116|  593|\n",
      "| 243436|  592|\n",
      "|1014799|  587|\n",
      "| 121233|  582|\n",
      "|  18326|  582|\n",
      "| 189865|  578|\n",
      "+-------+-----+\n",
      "only showing top 20 rows\n",
      "\n"
     ]
    }
   ],
   "source": [
    "# the total number of caterages\n",
    "categ=df.dropDuplicates(['category_id']).count()\n",
    "print('There are total {0} category.'.format(cater))\n",
    "# The number of items which were bought \n",
    "buy_categ=df.dropDuplicates(['category_id']).filter(df.behavior_id=='buy')\n",
    "print('Buying category:{0}.'.format(buy_categ.count()))\n",
    "\n",
    "\n",
    "# The total number of items\n",
    "item=df.dropDuplicates(['item_id']).count()\n",
    "print('There are total {0} items.'.format(item))\n",
    "# The number of items which were bought \n",
    "buy_item=df.dropDuplicates(['item_id']).filter(df.behavior_id=='buy')\n",
    "print('Buying items:{0}.'.format(buy_item.count()))\n",
    "\n",
    "df_user=df.groupBy(\"user_id\").count().orderBy([\"count\"], ascending=False)\n",
    "df_user.show()"
   ]
  },
  {
   "cell_type": "code",
   "execution_count": 9,
   "metadata": {
    "scrolled": true
   },
   "outputs": [
    {
     "name": "stdout",
     "output_type": "stream",
     "text": [
      "Total behavior of page view: 3316230.\n",
      "percent:89.53%.\n",
      "Total behavior of adding in shopping cart: 206584,.\n",
      "percent:5.58%.\n",
      "Total behavior of favor an item: 107060.\n",
      "percent:2.89%.\n",
      "Total behavior of buying a item: 74132.\n",
      "percent:2.00%.\n"
     ]
    }
   ],
   "source": [
    "# the number of behaviors and the proportion, which allowing the same user to repeat the same behavior many times\n",
    "\n",
    "# the number of pv(page view), cart(add in shopping cart), fav(purchase an item), buy\n",
    "df_pv=df.filter(df.behavior_id=='pv')\n",
    "pv=df_pv.count()\n",
    "print('Total behavior of page view: {0}.'.format(pv))\n",
    "print('percent:{:.2%}.'.format(pv/3704006))\n",
    "\n",
    "df_cart=df.filter(df.behavior_id=='cart')\n",
    "cart=df_cart.count()\n",
    "print('Total behavior of adding in shopping cart: {0},.'.format(cart))\n",
    "print('percent:{:.2%}.'.format(cart/3704006))\n",
    "\n",
    "df_fav=df.filter(df.behavior_id=='fav')\n",
    "fav=df_fav.count()\n",
    "print('Total behavior of favor an item: {0}.'.format(fav))\n",
    "print('percent:{:.2%}.'.format(fav/3704006))\n",
    "\n",
    "df_buy=df.filter(df.behavior_id=='buy')\n",
    "buy=df_buy.count()\n",
    "print('Total behavior of buying a item: {0}.'.format(buy))\n",
    "print('percent:{:.2%}.'.format(buy/3704006))"
   ]
  },
  {
   "cell_type": "code",
   "execution_count": 10,
   "metadata": {
    "scrolled": true
   },
   "outputs": [
    {
     "name": "stdout",
     "output_type": "stream",
     "text": [
      "Remove repetitive operations, the total operation is Shared:3011065.\n"
     ]
    }
   ],
   "source": [
    "#Remove duplicates, the same operation on the same item by the same user\n",
    "df_dic=df.dropDuplicates(['user_id','behavior_id','item_id'])\n",
    "dic=df_dic.count()\n",
    "print('Remove repetitive operations, the total operation is Shared:{0}.'.format(dic))"
   ]
  },
  {
   "cell_type": "code",
   "execution_count": 11,
   "metadata": {},
   "outputs": [
    {
     "name": "stdout",
     "output_type": "stream",
     "text": [
      "Total behavior of page view: 2632816.\n",
      "percent:87.44%.\n",
      "Total behavior of adding in shopping cart: 201221,.\n",
      "percent:6.68%.\n",
      "Total behavior of favor a item: 106419.\n",
      "percent:3.53%.\n",
      "Total behavior of buying a item: 70609.\n",
      "percent:2.34%.\n"
     ]
    }
   ],
   "source": [
    "# If the same person only counts the same action of agreeing item once,the number of behaviors and the proportion\n",
    "\n",
    "df_pv1=df_dic.filter(df_dic.behavior_id=='pv')\n",
    "pv1=df_pv1.count()\n",
    "print('Total behavior of page view: {0}.'.format(pv1))\n",
    "print('percent:{:.2%}.'.format(pv1/dic))\n",
    "\n",
    "df_cart1=df_dic.filter(df_dic.behavior_id=='cart')\n",
    "cart1=df_cart1.count()\n",
    "print('Total behavior of adding in shopping cart: {0},.'.format(cart1))\n",
    "print('percent:{:.2%}.'.format(cart1/dic))\n",
    "\n",
    "df_fav1=df_dic.filter(df_dic.behavior_id=='fav')\n",
    "fav1=df_fav1.count()\n",
    "print('Total behavior of favor a item: {0}.'.format(fav1))\n",
    "print('percent:{:.2%}.'.format(fav1/dic))\n",
    "\n",
    "df_buy1=df_dic.filter(df_dic.behavior_id=='buy')\n",
    "buy1=df_buy1.count()\n",
    "print('Total behavior of buying a item: {0}.'.format(buy1))\n",
    "print('percent:{:.2%}.'.format(buy1/dic))\n"
   ]
  },
  {
   "cell_type": "code",
   "execution_count": 12,
   "metadata": {},
   "outputs": [
    {
     "name": "stdout",
     "output_type": "stream",
     "text": [
      "The conversion rate for adding a item in cart after viewing it: 7.64%.\n",
      "The conversion rate for buying a item after adding it in cart: 35.09%.\n",
      "The conversion rate for favor a item in cart after viewing it: 4.04%.\n",
      "The conversion rate for buying a item after favor it in cart: 66.35%.\n"
     ]
    }
   ],
   "source": [
    "# If the same person only counts the same action of agreeing item once,\n",
    "# calculate the conversion rate of a product at each stage from click to purchase\n",
    "\n",
    "# the conversion rate for adding a item in cart after viewing it\n",
    "pv_cart=cart1/pv1\n",
    "print('The conversion rate for adding a item in cart after viewing it: {:.2%}.'.format(pv_cart))\n",
    "# the conversion rate for buying a item after adding it in cart\n",
    "cart_buy=buy1/cart1\n",
    "print('The conversion rate for buying a item after adding it in cart: {:.2%}.'.format(cart_buy))\n",
    "# the conversion rate for adding a item in cart after viewing it\n",
    "pv_fav=fav1/pv1\n",
    "print('The conversion rate for favor a item in cart after viewing it: {:.2%}.'.format(pv_fav))\n",
    "# the conversion rate for buying a item after adding it in cart\n",
    "fav_buy=buy1/fav1\n",
    "print('The conversion rate for buying a item after favor it in cart: {:.2%}.'.format(fav_buy))"
   ]
  },
  {
   "cell_type": "code",
   "execution_count": 13,
   "metadata": {
    "scrolled": true
   },
   "outputs": [
    {
     "name": "stdout",
     "output_type": "stream",
     "text": [
      "The Top 10 categorys of vering page.\n",
      "+-----------+--------+\n",
      "|category_id|count_pv|\n",
      "+-----------+--------+\n",
      "|    4756105|  181114|\n",
      "|    4145813|  119676|\n",
      "|    2355072|  117063|\n",
      "|    3607361|  111408|\n",
      "|     982926|  104926|\n",
      "|    2520377|   73510|\n",
      "|    4801426|   70522|\n",
      "|    1320293|   64251|\n",
      "|    2465336|   57359|\n",
      "|    3002561|   53595|\n",
      "+-----------+--------+\n",
      "only showing top 10 rows\n",
      "\n",
      "The Top 10 categorys of adding in cart.\n",
      "+-----------+----------+\n",
      "|category_id|count_cart|\n",
      "+-----------+----------+\n",
      "|    4756105|      8742|\n",
      "|    4145813|      6594|\n",
      "|     982926|      5841|\n",
      "|    2355072|      4545|\n",
      "|    4801426|      4449|\n",
      "|    3607361|      4047|\n",
      "|    2735466|      3607|\n",
      "|    1320293|      3416|\n",
      "|    2520377|      3254|\n",
      "|    2465336|      3238|\n",
      "+-----------+----------+\n",
      "only showing top 10 rows\n",
      "\n",
      "The Top 10 categorys of favoring.\n",
      "+-----------+---------+\n",
      "|category_id|count_fav|\n",
      "+-----------+---------+\n",
      "|    4756105|     5761|\n",
      "|    4145813|     4341|\n",
      "|     982926|     3357|\n",
      "|    2355072|     3217|\n",
      "|    4801426|     2573|\n",
      "|    3607361|     2542|\n",
      "|    2520377|     2401|\n",
      "|    2465336|     2080|\n",
      "|    3002561|     2059|\n",
      "|    1320293|     1942|\n",
      "+-----------+---------+\n",
      "only showing top 10 rows\n",
      "\n",
      "The Top 10 categorys of buying.\n",
      "+-----------+---------+\n",
      "|category_id|count_buy|\n",
      "+-----------+---------+\n",
      "|    1464116|     1355|\n",
      "|    2735466|     1333|\n",
      "|    4145813|     1265|\n",
      "|    2885642|     1159|\n",
      "|    4756105|     1055|\n",
      "|    4801426|     1012|\n",
      "|     982926|      887|\n",
      "|    3002561|      667|\n",
      "|    2640118|      655|\n",
      "|    4357323|      612|\n",
      "+-----------+---------+\n",
      "only showing top 10 rows\n",
      "\n",
      "+-----------+--------+---------+\n",
      "|category_id|count_pv|count_buy|\n",
      "+-----------+--------+---------+\n",
      "|     102113|       2|        0|\n",
      "|    1115957|       1|        0|\n",
      "|    1123103|       3|        0|\n",
      "|     128357|     184|       17|\n",
      "|    1297992|    1058|       60|\n",
      "|    1483024|      15|        0|\n",
      "|    1506691|      53|        0|\n",
      "|    1535500|      20|        2|\n",
      "|    1589379|      80|        0|\n",
      "|    1604691|     133|        0|\n",
      "|    1820304|       6|        1|\n",
      "|    1826911|     104|        5|\n",
      "|     188263|      16|        1|\n",
      "|    2006795|      15|        0|\n",
      "|    2042003|      21|        0|\n",
      "|     206668|       5|        0|\n",
      "|    2124307|     258|       27|\n",
      "|    2181439|      90|        2|\n",
      "|    2237463|       2|        0|\n",
      "|    2242999|       5|        0|\n",
      "+-----------+--------+---------+\n",
      "only showing top 20 rows\n",
      "\n"
     ]
    }
   ],
   "source": [
    "# calculate the number of behaviors for different categories\n",
    "\n",
    "df_categ_pv=df.withColumn('beha',func.when(df['behavior_id']=='pv',1).otherwise(0))\\\n",
    "             .groupBy(\"category_id\").sum('beha').orderBy(['sum(beha)'],ascending=False)\\\n",
    "             .withColumn('count_pv',col(\"sum(beha)\").cast(\"int\")).select('category_id','count_pv')     \n",
    "print('The Top 10 categorys of vering page.')\n",
    "df_categ_pv.show(10)\n",
    "\n",
    "\n",
    "df_categ_cart=df_cart.groupBy('category_id').count().orderBy([\"count\"],ascending=False)\\\n",
    "                      .withColumn(\"count_cart\",col('count')).select('category_id','count_cart')\n",
    "print('The Top 10 categorys of adding in cart.')\n",
    "df_categ_cart.show(10)\n",
    "\n",
    "\n",
    "df_categ_fav=df_fav.groupBy('category_id').count().orderBy([\"count\"],ascending=False)\\\n",
    "                    .withColumn(\"count_fav\",col('count')).select('category_id','count_fav')\n",
    "print('The Top 10 categorys of favoring.')\n",
    "df_categ_fav.show(10)\n",
    "\n",
    "\n",
    "# df_categ_buy=df_buy.groupBy('category_id').count().orderBy([\"count\"],ascending=False)\\\n",
    "df_categ_buy=df.withColumn('beha',func.when(df['behavior_id']=='buy',1).otherwise(0))\\\n",
    "             .groupBy(\"category_id\").sum('beha').orderBy(['sum(beha)'],ascending=False)\\\n",
    "             .withColumn('count_buy',col(\"sum(beha)\").cast(\"int\")).select('category_id','count_buy')\n",
    "print('The Top 10 categorys of buying.')\n",
    "df_categ_buy.show(10)\n",
    "\n",
    "#Compare categorys that have been viewed more than categorys that have been purchased more\n",
    "df_categ=df_categ_buy.join(df_categ_pv,'category_id')\\\n",
    "                    .select('category_id','count_pv','count_buy').show()"
   ]
  },
  {
   "cell_type": "code",
   "execution_count": 14,
   "metadata": {},
   "outputs": [
    {
     "name": "stdout",
     "output_type": "stream",
     "text": [
      "The Top 10 items of vering page.\n",
      "+-------+--------+\n",
      "|item_id|count_pv|\n",
      "+-------+--------+\n",
      "| 812879|    1129|\n",
      "|3845720|     907|\n",
      "|2032668|     803|\n",
      "|2331370|     799|\n",
      "| 138964|     755|\n",
      "|3031354|     698|\n",
      "|1535294|     690|\n",
      "|3371523|     672|\n",
      "|2338453|     664|\n",
      "|4211339|     653|\n",
      "+-------+--------+\n",
      "only showing top 10 rows\n",
      "\n",
      "The Top 10 items of adding in cart.\n",
      "+-------+----------+\n",
      "|item_id|count_cart|\n",
      "+-------+----------+\n",
      "|3031354|        66|\n",
      "|2331370|        63|\n",
      "|2560262|        57|\n",
      "|2818406|        50|\n",
      "| 812879|        49|\n",
      "|1535294|        48|\n",
      "| 705557|        45|\n",
      "|2453685|        44|\n",
      "|2279428|        41|\n",
      "| 138964|        39|\n",
      "+-------+----------+\n",
      "only showing top 10 rows\n",
      "\n",
      "The Top 10 items of favoring.\n",
      "+-------+---------+\n",
      "|item_id|count_fav|\n",
      "+-------+---------+\n",
      "| 812879|       40|\n",
      "|2279428|       40|\n",
      "|2818406|       38|\n",
      "|2364679|       30|\n",
      "|2331370|       30|\n",
      "|2887571|       26|\n",
      "| 138964|       26|\n",
      "|1419997|       25|\n",
      "|1783990|       25|\n",
      "|1535294|       25|\n",
      "+-------+---------+\n",
      "only showing top 10 rows\n",
      "\n",
      "The Top 10 items of buying.\n",
      "+-------+---------+\n",
      "|item_id|count_buy|\n",
      "+-------+---------+\n",
      "|3122135|       58|\n",
      "|3031354|       31|\n",
      "|2964774|       27|\n",
      "|2560262|       25|\n",
      "|1910706|       24|\n",
      "|1116492|       23|\n",
      "| 257772|       23|\n",
      "|3964583|       22|\n",
      "|1042152|       22|\n",
      "|1034594|       21|\n",
      "+-------+---------+\n",
      "only showing top 10 rows\n",
      "\n",
      "+-------+--------+---------+\n",
      "|item_id|count_pv|count_buy|\n",
      "+-------+--------+---------+\n",
      "| 100010|       1|        0|\n",
      "|1000240|       1|        0|\n",
      "| 100140|       1|        0|\n",
      "|1002185|       1|        0|\n",
      "|1004266|       2|        0|\n",
      "|1005483|       1|        0|\n",
      "|1007636|       1|        0|\n",
      "| 100768|       1|        0|\n",
      "|1009080|       1|        0|\n",
      "|1009129|       5|        0|\n",
      "|1010103|       3|        0|\n",
      "|1010262|       3|        0|\n",
      "|1010503|       1|        0|\n",
      "|1010896|       1|        0|\n",
      "|1012418|      11|        0|\n",
      "|1015551|       5|        0|\n",
      "|1018899|      23|        0|\n",
      "|1020260|       1|        0|\n",
      "|1020987|       1|        0|\n",
      "|1022204|       1|        0|\n",
      "+-------+--------+---------+\n",
      "only showing top 20 rows\n",
      "\n"
     ]
    }
   ],
   "source": [
    "# the Top 10 items for different behaviors\n",
    "df_item_pv=df.withColumn('beha',func.when(df['behavior_id']=='pv',1).otherwise(0))\\\n",
    "             .groupBy(\"item_id\").sum('beha').orderBy(['sum(beha)'],ascending=False)\\\n",
    "             .withColumn('count_pv',col(\"sum(beha)\").cast(\"int\")).select('item_id','count_pv')     \n",
    "# df_item_pv=df.filter(df.behavior_id=='pv').groupBy(\"item_id\").count()\\\n",
    "#                         .orderBy([\"count\"], ascending=False)\\\n",
    "#                         .withColumn(\"count_pv\",col('count')).show()                       \n",
    "print('The Top 10 items of vering page.')\n",
    "df_item_pv.show(10)\n",
    "\n",
    "df_item_cart=df.filter(df.behavior_id=='cart').groupBy('item_id').count()\\\n",
    "                        .orderBy(['count'],ascending=False)\\\n",
    "                        .withColumn(\"count_cart\",col('count')).select('item_id','count_cart')\n",
    "print('The Top 10 items of adding in cart.')\n",
    "df_item_cart.show(10)\n",
    "\n",
    "df_item_fav=df.filter(df.behavior_id=='fav').groupBy(\"item_id\").count()\\\n",
    "                        .orderBy([\"count\"], ascending=False).withColumn(\"count_fav\",col('count'))\\\n",
    "                        .select('item_id','count_fav')\n",
    "\n",
    "print('The Top 10 items of favoring.')\n",
    "df_item_fav.show(10)\n",
    "\n",
    "df_item_buy=df.withColumn('beha',func.when(df['behavior_id']=='buy',1).otherwise(0))\\\n",
    "             .groupBy(\"item_id\").sum('beha').orderBy(['sum(beha)'],ascending=False)\\\n",
    "             .withColumn('count_buy',col(\"sum(beha)\").cast(\"int\")).select('item_id','count_buy')\n",
    "# df_item_buy=df.filter(df.behavior_id=='buy').groupBy(\"item_id\").count().orderBy([\"count\"], ascending=False)\\\n",
    "#                         .withColumn('count_buy',col('count')).show()\n",
    "print('The Top 10 items of buying.')\n",
    "df_item_buy.show(10)\n",
    "\n",
    "# Compare items that have been viewed more than items that have been purchased more\n",
    "df_item=df_item_buy.join(df_item_pv,'item_id')\\\n",
    "                    .select('item_id','count_pv','count_buy').show()"
   ]
  },
  {
   "cell_type": "code",
   "execution_count": 15,
   "metadata": {
    "scrolled": true
   },
   "outputs": [
    {
     "name": "stdout",
     "output_type": "stream",
     "text": [
      "+-------+---------+---+\n",
      "|user_id|max(Date)|  R|\n",
      "+-------+---------+---+\n",
      "| 229333| 20171125|  0|\n",
      "|  22649| 20171128|  3|\n",
      "|  11693| 20171129|  4|\n",
      "| 216393| 20171129|  4|\n",
      "| 108670| 20171129|  4|\n",
      "| 139194| 20171130|  5|\n",
      "| 127992| 20171130|  5|\n",
      "| 149606| 20171130|  5|\n",
      "| 125767| 20171130|  5|\n",
      "| 126295| 20171130|  5|\n",
      "| 131717| 20171130|  5|\n",
      "| 109147| 20171201|  6|\n",
      "| 108296| 20171201|  6|\n",
      "| 126583| 20171201|  6|\n",
      "| 122031| 20171201|  6|\n",
      "| 125192| 20171201|  6|\n",
      "| 125709| 20171201|  6|\n",
      "|  11135| 20171201|  6|\n",
      "| 125325| 20171201|  6|\n",
      "| 126605| 20171201|  6|\n",
      "+-------+---------+---+\n",
      "only showing top 20 rows\n",
      "\n"
     ]
    }
   ],
   "source": [
    "# according to the RFM model to calculate the value of custums\n",
    "# R-Last buying time: the range or date is 9, using 0-8 points to signal every user according to the time of their last buying\n",
    "df=df.withColumn('Date',col(\"Date\").cast(\"int\"))\n",
    "# ta=df.groupBy(\"user_id\").max(\"Date\").collect()[0].orderBy(['max(Date)']).show()\n",
    "df_1=df.groupBy(\"user_id\").max(\"Date\").orderBy(['max(Date)'])\n",
    "df_R=df_1.withColumn(\"R\",func.when(df_1['max(Date)']==20171125,0).when(df_1['max(Date)']==20171126,1).when(df_1['max(Date)']==20171127,2)\n",
    "                             .when(df_1['max(Date)']==20171128,3).when(df_1['max(Date)']==20171129,4).when(df_1['max(Date)']==20171130,5)\n",
    "                             .when(df_1['max(Date)']==20171201,6).when(df_1['max(Date)']==20171202,7)\n",
    "                             .when(df_1['max(Date)']==20171203,8))\n",
    "df_R.show()"
   ]
  },
  {
   "cell_type": "code",
   "execution_count": 23,
   "metadata": {
    "scrolled": true
   },
   "outputs": [
    {
     "name": "stdout",
     "output_type": "stream",
     "text": [
      "0\n",
      "84\n",
      "+-------+---+---+---+\n",
      "|user_id|  R|  F|sum|\n",
      "+-------+---+---+---+\n",
      "| 234304|  8|  8| 16|\n",
      "| 107932|  8|  7| 15|\n",
      "| 190873|  8|  6| 14|\n",
      "| 242650|  8|  6| 14|\n",
      "| 122504|  8|  6| 14|\n",
      "| 128379|  8|  6| 14|\n",
      "|1008380|  8|  5| 13|\n",
      "| 165222|  8|  4| 12|\n",
      "| 158803|  8|  4| 12|\n",
      "|1003983|  8|  4| 12|\n",
      "| 140047|  8|  4| 12|\n",
      "|  23206|  8|  3| 11|\n",
      "| 253135|  8|  3| 11|\n",
      "| 235399|  8|  3| 11|\n",
      "| 108865|  8|  3| 11|\n",
      "| 131115|  8|  3| 11|\n",
      "| 145134|  8|  3| 11|\n",
      "| 248323|  8|  3| 11|\n",
      "| 128113|  8|  3| 11|\n",
      "|  16907|  8|  3| 11|\n",
      "+-------+---+---+---+\n",
      "only showing top 20 rows\n",
      "\n"
     ]
    }
   ],
   "source": [
    "# F-frequency of the buying\n",
    "df_2=df.withColumn('beha',func.when(df['behavior_id']=='buy',1).otherwise(0))\n",
    "df_F=df_2.groupBy(\"user_id\").sum('beha').orderBy(['sum(beha)'])\\\n",
    "                                     .withColumn('fre',col(\"sum(beha)\").cast(\"int\"))\n",
    "print(df_F.select('fre').rdd.min()[0])\n",
    "print(df_F.select('fre').rdd.max()[0])\n",
    "# During this period, the maximum number of users purchased 84 times and the minimum number of users purchased 0 times. \n",
    "# The number of users used to purchase was divided into 0-8 grades and marked as F\n",
    "df_F=df_F.withColumn('F',func.when(df_F['fre']<=9,0)\n",
    "                             .when((col('fre')>=10) & (col('fre')<=19),1)\n",
    "                             .when((df_F['fre']>=20) & (df_F['fre']<=29),2)\n",
    "                             .when((df_F['fre']>=30) & (df_F['fre']<=39),3)\n",
    "                             .when((df_F['fre']>=40) & (df_F['fre']<=49),4)\n",
    "                             .when((df_F['fre']>=50) & (df_F['fre']<=59),5)\n",
    "                             .when((df_F['fre']>=60) & (df_F['fre']<=69),6)\n",
    "                             .when((df_F['fre']>=70) & (df_F['fre']<=79),7)\n",
    "                             .when((df_F['fre']>=80) & (df_F['fre']<=89),8))\n",
    "\n",
    "df_RF=df_R.join(df_F,'user_id').select('user_id','R','F')\n",
    "df_RF=df_RF.withColumn('sum',df_RF['R']+df_RF['F']).orderBy(-col(\"sum\"))\n",
    "df_RF.show()"
   ]
  }
 ],
 "metadata": {
  "kernelspec": {
   "display_name": "Python 3",
   "language": "python",
   "name": "python3"
  },
  "language_info": {
   "codemirror_mode": {
    "name": "ipython",
    "version": 3
   },
   "file_extension": ".py",
   "mimetype": "text/x-python",
   "name": "python",
   "nbconvert_exporter": "python",
   "pygments_lexer": "ipython3",
   "version": "3.7.6"
  }
 },
 "nbformat": 4,
 "nbformat_minor": 4
}
